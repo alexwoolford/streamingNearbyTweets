{
 "metadata": {
  "name": "",
  "signature": "sha256:1078cac3a08fa8baab9c07e18d93b0b67a99b3f557da641a3284b911ea472ac5"
 },
 "nbformat": 3,
 "nbformat_minor": 0,
 "worksheets": [
  {
   "cells": [
    {
     "cell_type": "code",
     "collapsed": false,
     "input": [
      "import sys\n",
      "import tweepy\n",
      "from haversine import haversine"
     ],
     "language": "python",
     "metadata": {},
     "outputs": [],
     "prompt_number": 1
    },
    {
     "cell_type": "code",
     "collapsed": false,
     "input": [
      "consumer_key='consumer_key'\n",
      "consumer_secret='consumer_secret'\n",
      "access_key = 'access_key'\n",
      "access_secret = 'access_secret'"
     ],
     "language": "python",
     "metadata": {},
     "outputs": [],
     "prompt_number": 2
    },
    {
     "cell_type": "code",
     "collapsed": false,
     "input": [
      "auth = tweepy.OAuthHandler(consumer_key, consumer_secret)\n",
      "auth.set_access_token(access_key, access_secret)"
     ],
     "language": "python",
     "metadata": {},
     "outputs": [],
     "prompt_number": 3
    },
    {
     "cell_type": "code",
     "collapsed": false,
     "input": [
      "api = tweepy.API(auth)"
     ],
     "language": "python",
     "metadata": {},
     "outputs": [],
     "prompt_number": 4
    },
    {
     "cell_type": "code",
     "collapsed": false,
     "input": [
      "lafayetteLocation = (-105.089, 39.993)"
     ],
     "language": "python",
     "metadata": {},
     "outputs": [],
     "prompt_number": 5
    },
    {
     "cell_type": "code",
     "collapsed": false,
     "input": [
      "class LafayetteStreamListener(tweepy.StreamListener):\n",
      "    def on_status(self, status):\n",
      "        if status.coordinates:\n",
      "            tweetLocation = tuple(status.coordinates['coordinates'])\n",
      "            distanceFromLafayette = haversine(tweetLocation, lafayetteLocation, miles=True)\n",
      "            if distanceFromLafayette < 50:\n",
      "                print tweetLocation, distanceFromLafayette, status.text\n",
      "\n",
      "    def on_error(self, status_code):\n",
      "        print >> sys.stderr, 'Encountered error with status code:', status_code\n",
      "        return True # Don't kill the stream\n",
      "\n",
      "    def on_timeout(self):\n",
      "        print >> sys.stderr, 'Timeout...'\n",
      "        return True # Don't kill the stream"
     ],
     "language": "python",
     "metadata": {},
     "outputs": [],
     "prompt_number": 8
    },
    {
     "cell_type": "code",
     "collapsed": false,
     "input": [
      "sapi = tweepy.streaming.Stream(auth, LafayetteStreamListener())"
     ],
     "language": "python",
     "metadata": {},
     "outputs": [],
     "prompt_number": 9
    },
    {
     "cell_type": "code",
     "collapsed": false,
     "input": [
      "sapi.sample()"
     ],
     "language": "python",
     "metadata": {},
     "outputs": [
      {
       "output_type": "stream",
       "stream": "stdout",
       "text": [
        "(-104.763064, 38.845191) 30.3878340731 Bowser http://t.co/v2radurffX\n",
        "(-105.019399, 39.884211)"
       ]
      },
      {
       "output_type": "stream",
       "stream": "stdout",
       "text": [
        " 5.18753490145 @SAalkhudhri \ud83d\ude15\n",
        "(-104.821755, 39.708715)"
       ]
      },
      {
       "output_type": "stream",
       "stream": "stdout",
       "text": [
        " 19.1382971072 \u201c@ThaRuler_LTF: State kicking ass \ud83d\udc36\ud83d\udd14\u201dGeorgia with that shutout though\ud83d\ude0e\n",
        "(-105.019134, 39.884)"
       ]
      },
      {
       "output_type": "stream",
       "stream": "stdout",
       "text": [
        " 5.20590975342 @SAalkhudhri \ud83d\udc40\ud83d\udc40\ud83d\udc40\ud83d\udc40\ud83d\udc4c\n",
        "(-104.675202, 39.863104)"
       ]
      },
      {
       "output_type": "stream",
       "stream": "stdout",
       "text": [
        " 28.6690015619 @Denveramy C. Should have left and gone on a weed adventure! They just have us $100.\n",
        "(-104.908771, 39.69332)"
       ]
      },
      {
       "output_type": "stream",
       "stream": "stdout",
       "text": [
        " 13.5498113268 I feel like i could be honest bae\n",
        "(-104.942012, 39.685371)"
       ]
      },
      {
       "output_type": "stream",
       "stream": "stdout",
       "text": [
        " 11.5469362638 Tu puedes sacar al Boricua de Puerto Rico pero no puedes sacar a Puerto Rico del Boricua.\n",
        "(-104.704873, 40.403703)"
       ]
      },
      {
       "output_type": "stream",
       "stream": "stdout",
       "text": [
        " 27.510950013 Halftime stats --- Sac State has 350 yds if total offense ... UNC has 158.\n",
        "SS QB Garret Safron has 166 passing and 87 rushing.\n",
        "(-105.023848, 39.670353)"
       ]
      },
      {
       "output_type": "stream",
       "stream": "stdout",
       "text": [
        " 7.33112247567 @burnmendes hi \u263b sorry to bother but i was wondering if you could please rt/tag justin \u2661 https://t.co/eqPa8YEbuk it would mean so much\n",
        "(-104.994973, 39.746016)"
       ]
      },
      {
       "output_type": "stream",
       "stream": "stdout",
       "text": [
        " 7.85864339432 I'm at Bovine Metropolis Theater &amp; School of Improv in Denver, CO https://t.co/j1hdJs0oqA\n",
        "(-105.070505, 40.192034)"
       ]
      },
      {
       "output_type": "stream",
       "stream": "stdout",
       "text": [
        " 3.79719722998 @BEARDO @therealKBPI duhhhhhh it's all about dedication\n",
        "(-104.924853, 39.758939)"
       ]
      },
      {
       "output_type": "stream",
       "stream": "stdout",
       "text": [
        " 12.0837313829 @AshleyDPS Thank you for the follow!!!\n",
        "(-104.77101, 38.831321)"
       ]
      },
      {
       "output_type": "stream",
       "stream": "stdout",
       "text": [
        " 30.1558705054 Smoke some..\n",
        "(-105.068714, 40.593129)"
       ]
      },
      {
       "output_type": "stream",
       "stream": "stdout",
       "text": [
        " 10.8721821157 Super yum! @ New Belgium Brewing http://t.co/iPmsDrjqdD\n",
        "(-104.936164, 39.902635)"
       ]
      },
      {
       "output_type": "stream",
       "stream": "stdout",
       "text": [
        " 10.6776992764 If you're a smart ass w me, you better believe ima be a total bitch to you \u270c\n",
        "(-104.759471, 39.623212)"
       ]
      },
      {
       "output_type": "stream",
       "stream": "stdout",
       "text": [
        " 23.6880053277 The only bald headed biznatch that I think Is fiya is miss #AmberRose this whole natural thing ain't for everybody. Blugh...pushin it tho\n",
        "(-104.996661, 40.401996)"
       ]
      },
      {
       "output_type": "stream",
       "stream": "stdout",
       "text": [
        " 9.71603483425 Table for two please! @darian_pixley http://t.co/dQMym0TSY1\n",
        "(-105.078033, 40.581866)"
       ]
      },
      {
       "output_type": "stream",
       "stream": "stdout",
       "text": [
        " 10.6094667828 John says he's hungry. What do we do? Drive to Fort Collins. His thinking is illogical. http://t.co/wtCmmc5Xea\n",
        "(-104.924281, 39.656864)"
       ]
      },
      {
       "output_type": "stream",
       "stream": "stdout",
       "text": [
        " 12.8655530435 waiting 4 a nickelback and avril lavigne duo\n",
        "(-105.153229, 40.611238)"
       ]
      },
      {
       "output_type": "stream",
       "stream": "stdout",
       "text": [
        " 11.9880252378 Fort Collins in Autumn. #fortcollins #colorado @ Reservoir Ridge Natural Area http://t.co/doUGUVKtt7\n",
        "(-105.084091, 40.480574)"
       ]
      },
      {
       "output_type": "stream",
       "stream": "stdout",
       "text": [
        " 8.77038518751 Ducks is tearing shit off right meow!!\n",
        "(-104.756491, 39.665742)"
       ]
      },
      {
       "output_type": "stream",
       "stream": "stdout",
       "text": [
        " 23.6885499303 Evangelise can sma\n",
        "(-104.751404, 38.804015)"
       ]
      },
      {
       "output_type": "stream",
       "stream": "stdout",
       "text": [
        " 31.4707921113 Zombie tonight!  Taking your photos at #hellscream haunted house. Fillmore and Hancock http://t.co/YVDWTgK5wW\n",
        "(-104.756035, 38.916956)"
       ]
      }
     ]
    }
   ],
   "metadata": {}
  }
 ]
}